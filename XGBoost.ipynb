{
 "cells": [
  {
   "cell_type": "markdown",
   "metadata": {},
   "source": [
    "### XGBoost"
   ]
  },
  {
   "cell_type": "code",
   "execution_count": 93,
   "metadata": {},
   "outputs": [],
   "source": [
    "import pandas as pd\n",
    "import xgboost as xgb\n",
    "from sklearn.model_selection import train_test_split\n",
    "from sklearn.metrics import mean_squared_error\n",
    "import numpy as np"
   ]
  },
  {
   "cell_type": "code",
   "execution_count": 94,
   "metadata": {},
   "outputs": [
    {
     "name": "stderr",
     "output_type": "stream",
     "text": [
      "C:\\Users\\ShaheerAhmed\\AppData\\Local\\Temp\\ipykernel_15848\\120436719.py:1: DtypeWarning: Columns (7) have mixed types. Specify dtype option on import or set low_memory=False.\n",
      "  df = pd.read_csv(\"merged_df.csv\")\n",
      "C:\\Users\\ShaheerAhmed\\AppData\\Local\\Temp\\ipykernel_15848\\120436719.py:3: DtypeWarning: Columns (7) have mixed types. Specify dtype option on import or set low_memory=False.\n",
      "  test = pd.read_csv('merged_df_test.csv')\n"
     ]
    }
   ],
   "source": [
    "df = pd.read_csv(\"merged_df.csv\")\n",
    "\n",
    "test = pd.read_csv('merged_df_test.csv')"
   ]
  },
  {
   "cell_type": "code",
   "execution_count": 95,
   "metadata": {},
   "outputs": [
    {
     "name": "stderr",
     "output_type": "stream",
     "text": [
      "C:\\Users\\ShaheerAhmed\\AppData\\Local\\Temp\\ipykernel_15848\\923266672.py:2: UserWarning: Parsing dates in %d/%m/%Y format when dayfirst=False (the default) was specified. Pass `dayfirst=True` or specify a format to silence this warning.\n",
      "  test['Date'] = pd.to_datetime(test['Date'])\n",
      "C:\\Users\\ShaheerAhmed\\AppData\\Local\\Temp\\ipykernel_15848\\923266672.py:12: FutureWarning: A value is trying to be set on a copy of a DataFrame or Series through chained assignment using an inplace method.\n",
      "The behavior will change in pandas 3.0. This inplace method will never work because the intermediate object on which we are setting values always behaves as a copy.\n",
      "\n",
      "For example, when doing 'df[col].method(value, inplace=True)', try using 'df.method({col: value}, inplace=True)' or df[col] = df[col].method(value) instead, to perform the operation inplace on the original object.\n",
      "\n",
      "\n",
      "  test['Promo2Date'].fillna('1900-01-01', inplace=True)\n",
      "C:\\Users\\ShaheerAhmed\\AppData\\Local\\Temp\\ipykernel_15848\\923266672.py:15: FutureWarning: A value is trying to be set on a copy of a DataFrame or Series through chained assignment using an inplace method.\n",
      "The behavior will change in pandas 3.0. This inplace method will never work because the intermediate object on which we are setting values always behaves as a copy.\n",
      "\n",
      "For example, when doing 'df[col].method(value, inplace=True)', try using 'df.method({col: value}, inplace=True)' or df[col] = df[col].method(value) instead, to perform the operation inplace on the original object.\n",
      "\n",
      "\n",
      "  test['CompetitionDurationMonths'].fillna(test['CompetitionDurationMonths'].median(), inplace=True)\n"
     ]
    }
   ],
   "source": [
    "# Convert date fields to datetime objects\n",
    "test['Date'] = pd.to_datetime(test['Date'])\n",
    "test['CompetitionOpenSinceDate'] = pd.to_datetime(test['CompetitionOpenSinceDate'])\n",
    "\n",
    "# Calculate the duration of competition being open in months\n",
    "test['CompetitionDurationMonths'] = (\n",
    "    (test['Date'].dt.year - test['CompetitionOpenSinceDate'].dt.year) * 12 +\n",
    "    (test['Date'].dt.month - test['CompetitionOpenSinceDate'].dt.month)\n",
    ")\n",
    "\n",
    "# Impute missing dates on Promo2Date with a placeholder value, e.g., '1900-01-01'\n",
    "test['Promo2Date'].fillna('1900-01-01', inplace=True)\n",
    "\n",
    "# Replace NaNs in 'CompetitionDurationMonths' with the median duration\n",
    "test['CompetitionDurationMonths'].fillna(test['CompetitionDurationMonths'].median(), inplace=True)\n",
    "\n",
    "# Drop the original date fields and other non-numeric or unnecessary columns\n",
    "test = test.drop(['StoreType', 'Assortment', 'StateHoliday', 'PromoInterval', 'CompetitionOpenSinceMonth','CompetitionOpenSinceYear', 'Promo2SinceWeek', 'Promo2SinceYear'], axis=1)\n",
    "\n",
    "# Convert datetime columns to numeric features\n",
    "test['Date_Year'] = test['Date'].dt.year\n",
    "test['Date_Month'] = test['Date'].dt.month\n",
    "test['Date_Day'] = test['Date'].dt.day\n",
    "\n",
    "test['CompetitionOpenSinceDate_Year'] = test['CompetitionOpenSinceDate'].dt.year\n",
    "test['CompetitionOpenSinceDate_Month'] = test['CompetitionOpenSinceDate'].dt.month\n",
    "test['CompetitionOpenSinceDate_Day'] = test['CompetitionOpenSinceDate'].dt.day\n",
    "\n",
    "test['Promo2Date'] = pd.to_datetime(test['Promo2Date'])\n",
    "test['Promo2Date_Year'] = test['Promo2Date'].dt.year\n",
    "test['Promo2Date_Month'] = test['Promo2Date'].dt.month\n",
    "test['Promo2Date_Day'] = test['Promo2Date'].dt.day\n",
    "\n",
    "# Drop the original datetime columns\n",
    "test = test.drop(['CompetitionOpenSinceDate', 'Promo2Date'], axis=1)"
   ]
  },
  {
   "cell_type": "code",
   "execution_count": 96,
   "metadata": {},
   "outputs": [
    {
     "name": "stderr",
     "output_type": "stream",
     "text": [
      "C:\\Users\\ShaheerAhmed\\AppData\\Local\\Temp\\ipykernel_15848\\1528679412.py:12: FutureWarning: A value is trying to be set on a copy of a DataFrame or Series through chained assignment using an inplace method.\n",
      "The behavior will change in pandas 3.0. This inplace method will never work because the intermediate object on which we are setting values always behaves as a copy.\n",
      "\n",
      "For example, when doing 'df[col].method(value, inplace=True)', try using 'df.method({col: value}, inplace=True)' or df[col] = df[col].method(value) instead, to perform the operation inplace on the original object.\n",
      "\n",
      "\n",
      "  df['Promo2Date'].fillna('1900-01-01', inplace=True)\n",
      "C:\\Users\\ShaheerAhmed\\AppData\\Local\\Temp\\ipykernel_15848\\1528679412.py:15: FutureWarning: A value is trying to be set on a copy of a DataFrame or Series through chained assignment using an inplace method.\n",
      "The behavior will change in pandas 3.0. This inplace method will never work because the intermediate object on which we are setting values always behaves as a copy.\n",
      "\n",
      "For example, when doing 'df[col].method(value, inplace=True)', try using 'df.method({col: value}, inplace=True)' or df[col] = df[col].method(value) instead, to perform the operation inplace on the original object.\n",
      "\n",
      "\n",
      "  df['CompetitionDurationMonths'].fillna(df['CompetitionDurationMonths'].median(), inplace=True)\n"
     ]
    }
   ],
   "source": [
    "# Convert date fields to datetime objects\n",
    "df['Date'] = pd.to_datetime(df['Date'])\n",
    "df['CompetitionOpenSinceDate'] = pd.to_datetime(df['CompetitionOpenSinceDate'])\n",
    "\n",
    "# Calculate the duration of competition being open in months\n",
    "df['CompetitionDurationMonths'] = (\n",
    "    (df['Date'].dt.year - df['CompetitionOpenSinceDate'].dt.year) * 12 +\n",
    "    (df['Date'].dt.month - df['CompetitionOpenSinceDate'].dt.month)\n",
    ")\n",
    "\n",
    "# Impute missing dates on Promo2Date with a placeholder value, e.g., '1900-01-01'\n",
    "df['Promo2Date'].fillna('1900-01-01', inplace=True)\n",
    "\n",
    "# Replace NaNs in 'CompetitionDurationMonths' with the median duration\n",
    "df['CompetitionDurationMonths'].fillna(df['CompetitionDurationMonths'].median(), inplace=True)\n",
    "\n",
    "# Drop the original date fields and other non-numeric or unnecessary columns\n",
    "df = df.drop(['StoreType', 'Assortment', 'StateHoliday', 'PromoInterval', 'CompetitionOpenSinceMonth','CompetitionOpenSinceYear', 'Promo2SinceWeek', 'Promo2SinceYear'], axis=1)\n",
    "\n",
    "# Convert datetime columns to numeric features\n",
    "df['Date_Year'] = df['Date'].dt.year\n",
    "df['Date_Month'] = df['Date'].dt.month\n",
    "df['Date_Day'] = df['Date'].dt.day\n",
    "\n",
    "df['CompetitionOpenSinceDate_Year'] = df['CompetitionOpenSinceDate'].dt.year\n",
    "df['CompetitionOpenSinceDate_Month'] = df['CompetitionOpenSinceDate'].dt.month\n",
    "df['CompetitionOpenSinceDate_Day'] = df['CompetitionOpenSinceDate'].dt.day\n",
    "\n",
    "df['Promo2Date'] = pd.to_datetime(df['Promo2Date'])\n",
    "df['Promo2Date_Year'] = df['Promo2Date'].dt.year\n",
    "df['Promo2Date_Month'] = df['Promo2Date'].dt.month\n",
    "df['Promo2Date_Day'] = df['Promo2Date'].dt.day\n",
    "\n",
    "# Drop the original datetime columns\n",
    "df = df.drop(['Date', 'CompetitionOpenSinceDate', 'Promo2Date'], axis=1)"
   ]
  },
  {
   "cell_type": "code",
   "execution_count": null,
   "metadata": {},
   "outputs": [],
   "source": []
  },
  {
   "cell_type": "code",
   "execution_count": 97,
   "metadata": {},
   "outputs": [
    {
     "name": "stdout",
     "output_type": "stream",
     "text": [
      "Mean Squared Error for Sales: 1252427.1067716063\n",
      "Root Mean Squared Error for Sales: 1119.1188975133994\n",
      "Root Mean Squared Percentage Error for Sales: 19.394195252527386\n"
     ]
    }
   ],
   "source": [
    "X_sales = df.drop(['Sales', 'Customers'], axis=1) \n",
    "y_sales = df['Sales']  # target for sales\n",
    "\n",
    "# Split the data for Sales\n",
    "X_train_sales, X_test_sales, y_train_sales, y_test_sales = train_test_split(X_sales, y_sales, test_size=0.2, random_state=42)\n",
    "\n",
    "# XGBoost model for Sales\n",
    "xgb_model_sales = xgb.XGBRegressor(objective='reg:squarederror', random_state=42)\n",
    "xgb_model_sales.fit(X_train_sales, y_train_sales)\n",
    "\n",
    "# Predict on the test set for Sales\n",
    "y_pred_sales = xgb_model_sales.predict(X_test_sales)\n",
    "\n",
    "# Evaluate performance for Sales\n",
    "mse_sales = mean_squared_error(y_test_sales, y_pred_sales)\n",
    "rmse_sales = np.sqrt(mse_sales)\n",
    "rmspe_sales = rmse_sales / np.mean(y_test_sales) * 100\n",
    "\n",
    "print(f'Mean Squared Error for Sales: {mse_sales}')\n",
    "print(f'Root Mean Squared Error for Sales: {rmse_sales}')\n",
    "print(f'Root Mean Squared Percentage Error for Sales: {rmspe_sales}')"
   ]
  },
  {
   "cell_type": "code",
   "execution_count": 98,
   "metadata": {},
   "outputs": [
    {
     "name": "stdout",
     "output_type": "stream",
     "text": [
      "Mean Squared Error for Customers: 13477.414399213007\n",
      "Root Mean Squared Error for Customers: 116.09226675025778\n",
      "Root Mean Squared Percentage Error for Customers: 18.338316392192706\n"
     ]
    }
   ],
   "source": [
    "X_customers = df.drop(['Sales', 'Customers'], axis=1) \n",
    "y_customers = df['Customers']  # target for customers\n",
    "\n",
    "# Split the data for Customers\n",
    "X_train_customers, X_test_customers, y_train_customers, y_test_customers = train_test_split(X_customers, y_customers, test_size=0.2, random_state=42)\n",
    "\n",
    "# XGBoost model for Customers\n",
    "xgb_model_customers = xgb.XGBRegressor(objective='reg:squarederror', random_state=42)\n",
    "xgb_model_customers.fit(X_train_customers, y_train_customers)\n",
    "\n",
    "# Predict on the test set for Customers\n",
    "y_pred_customers = xgb_model_customers.predict(X_test_customers)\n",
    "\n",
    "# Evaluate performance for Customers\n",
    "mse_customers = mean_squared_error(y_test_customers, y_pred_customers)\n",
    "rmse_customers = np.sqrt(mse_customers)\n",
    "rmspe_customers = rmse_customers / np.mean(y_test_customers) * 100\n",
    "\n",
    "print(f'Mean Squared Error for Customers: {mse_customers}')\n",
    "print(f'Root Mean Squared Error for Customers: {rmse_customers}')\n",
    "print(f'Root Mean Squared Percentage Error for Customers: {rmspe_customers}')"
   ]
  },
  {
   "cell_type": "code",
   "execution_count": 99,
   "metadata": {},
   "outputs": [
    {
     "name": "stdout",
     "output_type": "stream",
     "text": [
      "                           Feature  Importance\n",
      "0                             Open    0.346030\n",
      "1                            Promo    0.094642\n",
      "2               Assortment_encoded    0.052944\n",
      "3                  Promo2Date_Year    0.048539\n",
      "4                           Promo2    0.047588\n",
      "5   CompetitionOpenSinceDate_Month    0.040388\n",
      "6    CompetitionOpenSinceDate_Year    0.038086\n",
      "7                 Promo2Date_Month    0.035735\n",
      "8              CompetitionDistance    0.035555\n",
      "9                StoreType_encoded    0.034315\n",
      "10           PromoInterval_encoded    0.030702\n",
      "11                  Promo2Date_Day    0.030177\n",
      "12                      Date_Month    0.029718\n",
      "13    CompetitionOpenSinceDate_Day    0.027400\n",
      "14                        Date_Day    0.024490\n",
      "15                           Store    0.023394\n",
      "16                       DayOfWeek    0.023073\n",
      "17                   SchoolHoliday    0.013114\n",
      "18                       Date_Year    0.011976\n",
      "19       CompetitionDurationMonths    0.008443\n",
      "20            StateHoliday_encoded    0.003691\n",
      "21                       isHoliday    0.000000\n"
     ]
    }
   ],
   "source": [
    "# Get feature importances\n",
    "importances_sales = xgb_model_sales.feature_importances_\n",
    "\n",
    "# Assuming df is your DataFrame with relevant columns\n",
    "features = X_sales.columns  # Assuming X_sales is your feature matrix\n",
    "\n",
    "# Create a dictionary to map feature names to importances for Sales\n",
    "feature_importance_sales_dict = dict(zip(features, importances_sales))\n",
    "\n",
    "# Sort feature importances for Sales\n",
    "sorted_feature_importance_sales = sorted(feature_importance_sales_dict.items(), key=lambda x: x[1], reverse=True)\n",
    "\n",
    "# Convert the sorted feature importances to a DataFrame\n",
    "df_feature_importance_sales = pd.DataFrame(sorted_feature_importance_sales, columns=['Feature', 'Importance'])\n",
    "\n",
    "# Display or save the DataFrame\n",
    "print(df_feature_importance_sales)"
   ]
  }
 ],
 "metadata": {
  "kernelspec": {
   "display_name": "Python 3",
   "language": "python",
   "name": "python3"
  },
  "language_info": {
   "codemirror_mode": {
    "name": "ipython",
    "version": 3
   },
   "file_extension": ".py",
   "mimetype": "text/x-python",
   "name": "python",
   "nbconvert_exporter": "python",
   "pygments_lexer": "ipython3",
   "version": "3.11.7"
  }
 },
 "nbformat": 4,
 "nbformat_minor": 2
}
